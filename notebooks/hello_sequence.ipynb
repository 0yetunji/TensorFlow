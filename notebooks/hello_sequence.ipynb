{
 "cells": [
  {
   "cell_type": "markdown",
   "metadata": {},
   "source": [
    "Credits / Inspired by => https://github.com/mwitiderrick/stockprice"
   ]
  },
  {
   "cell_type": "code",
   "execution_count": 1,
   "metadata": {},
   "outputs": [],
   "source": [
    "import numpy as np\n",
    "import matplotlib.pyplot as plt\n",
    "import pandas as pd"
   ]
  },
  {
   "cell_type": "code",
   "execution_count": 2,
   "metadata": {},
   "outputs": [],
   "source": [
    "data_input = np.arange(10000)\n",
    "training_set = pd.DataFrame(data_input)\n"
   ]
  },
  {
   "cell_type": "code",
   "execution_count": 4,
   "metadata": {},
   "outputs": [],
   "source": [
    "from sklearn.preprocessing import MinMaxScaler\n",
    "sc = MinMaxScaler(feature_range = (0, 1))\n",
    "training_set_scaled = sc.fit_transform(training_set)"
   ]
  },
  {
   "cell_type": "code",
   "execution_count": 6,
   "metadata": {},
   "outputs": [],
   "source": [
    "X_train = []\n",
    "y_train = []\n",
    "for i in range(60, 10000):\n",
    "    X_train.append(training_set_scaled[i-60:i, 0])\n",
    "    y_train.append(training_set_scaled[i, 0])\n",
    "X_train, y_train = np.array(X_train), np.array(y_train)\n",
    "\n",
    "X_train = np.reshape(X_train, (X_train.shape[0], X_train.shape[1], 1))"
   ]
  },
  {
   "cell_type": "code",
   "execution_count": 7,
   "metadata": {},
   "outputs": [
    {
     "data": {
      "text/plain": [
       "array([[[0.00000000e+00],\n",
       "        [1.00010001e-04],\n",
       "        [2.00020002e-04],\n",
       "        ...,\n",
       "        [5.70057006e-03],\n",
       "        [5.80058006e-03],\n",
       "        [5.90059006e-03]],\n",
       "\n",
       "       [[1.00010001e-04],\n",
       "        [2.00020002e-04],\n",
       "        [3.00030003e-04],\n",
       "        ...,\n",
       "        [5.80058006e-03],\n",
       "        [5.90059006e-03],\n",
       "        [6.00060006e-03]],\n",
       "\n",
       "       [[2.00020002e-04],\n",
       "        [3.00030003e-04],\n",
       "        [4.00040004e-04],\n",
       "        ...,\n",
       "        [5.90059006e-03],\n",
       "        [6.00060006e-03],\n",
       "        [6.10061006e-03]],\n",
       "\n",
       "       ...,\n",
       "\n",
       "       [[9.93799380e-01],\n",
       "        [9.93899390e-01],\n",
       "        [9.93999400e-01],\n",
       "        ...,\n",
       "        [9.99499950e-01],\n",
       "        [9.99599960e-01],\n",
       "        [9.99699970e-01]],\n",
       "\n",
       "       [[9.93899390e-01],\n",
       "        [9.93999400e-01],\n",
       "        [9.94099410e-01],\n",
       "        ...,\n",
       "        [9.99599960e-01],\n",
       "        [9.99699970e-01],\n",
       "        [9.99799980e-01]],\n",
       "\n",
       "       [[9.93999400e-01],\n",
       "        [9.94099410e-01],\n",
       "        [9.94199420e-01],\n",
       "        ...,\n",
       "        [9.99699970e-01],\n",
       "        [9.99799980e-01],\n",
       "        [9.99899990e-01]]])"
      ]
     },
     "execution_count": 7,
     "metadata": {},
     "output_type": "execute_result"
    }
   ],
   "source": [
    "X_train"
   ]
  },
  {
   "cell_type": "code",
   "execution_count": null,
   "metadata": {},
   "outputs": [],
   "source": [
    "from keras.models import Sequential\n",
    "from keras.layers import Dense\n",
    "from keras.layers import LSTM\n",
    "from keras.layers import Dropout"
   ]
  },
  {
   "cell_type": "code",
   "execution_count": null,
   "metadata": {},
   "outputs": [],
   "source": [
    "model = Sequential()\n",
    "model.add(LSTM(units = 50, return_sequences = True, input_shape = (X_train.shape[1], 1)))\n",
    "model.add(LSTM(units = 50))\n",
    "model.add(Dense(units = 1))\n",
    "\n",
    "model.compile(optimizer = 'adam', loss = 'mean_squared_error')\n",
    "\n",
    "model.fit(X_train, y_train, epochs = 10, batch_size = 32)"
   ]
  },
  {
   "cell_type": "code",
   "execution_count": null,
   "metadata": {},
   "outputs": [],
   "source": [
    "y_predict = model.predict(X_train)"
   ]
  },
  {
   "cell_type": "code",
   "execution_count": null,
   "metadata": {},
   "outputs": [],
   "source": [
    "pd.DataFrame(sc.inverse_transform(y_predict))"
   ]
  },
  {
   "cell_type": "code",
   "execution_count": null,
   "metadata": {},
   "outputs": [],
   "source": []
  }
 ],
 "metadata": {
  "kernelspec": {
   "display_name": "Python 3",
   "language": "python",
   "name": "python3"
  },
  "language_info": {
   "codemirror_mode": {
    "name": "ipython",
    "version": 3
   },
   "file_extension": ".py",
   "mimetype": "text/x-python",
   "name": "python",
   "nbconvert_exporter": "python",
   "pygments_lexer": "ipython3",
   "version": "3.7.4"
  }
 },
 "nbformat": 4,
 "nbformat_minor": 4
}
